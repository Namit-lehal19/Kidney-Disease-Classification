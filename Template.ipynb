{
 "cells": [
  {
   "cell_type": "code",
   "execution_count": 1,
   "id": "ea0b315a-def2-4193-bb02-08216d71d282",
   "metadata": {},
   "outputs": [],
   "source": [
    "import os\n",
    "from pathlib import Path\n",
    "import logging"
   ]
  },
  {
   "cell_type": "code",
   "execution_count": 3,
   "id": "6eca643e-995a-4898-9bf7-643eb7aa0b12",
   "metadata": {},
   "outputs": [],
   "source": [
    "logging.basicConfig(level=logging.INFO, format='[%(asctime)s]: %(message)s:')\n",
    "\n",
    "project_name = 'cnnClassifier'\n",
    "\n",
    "list_of_files = [\n",
    "    \"C:/Users/lehal/KIDNEY DISEASE/Kidney-Disease-Classification/.github/workflows/.gitkeep\",\n",
    "    f\"C:/Users/lehal/KIDNEY DISEASE/Kidney-Disease-Classification/src/{project_name}/__init__.ipynb\",\n",
    "    f\"C:/Users/lehal/KIDNEY DISEASE/Kidney-Disease-Classification/src/{project_name}/components/__init__.ipynb\",\n",
    "    f\"C:/Users/lehal/KIDNEY DISEASE/Kidney-Disease-Classification/src/{project_name}/utils/__init__.ipynb\",\n",
    "    f\"C:/Users/lehal/KIDNEY DISEASE/Kidney-Disease-Classification/src/{project_name}/config/__init__.ipynb\",\n",
    "    f\"C:/Users/lehal/KIDNEY DISEASE/Kidney-Disease-Classification/src/{project_name}/config/configuration.ipynb\",\n",
    "    f\"C:/Users/lehal/KIDNEY DISEASE/Kidney-Disease-Classification/src/{project_name}/pipeline/__init__.ipynb\",\n",
    "    f\"C:/Users/lehal/KIDNEY DISEASE/Kidney-Disease-Classification/src/{project_name}/entity/__init__.ipynb\",\n",
    "    f\"C:/Users/lehal/KIDNEY DISEASE/Kidney-Disease-Classification/src/{project_name}/constants/__init__.ipynb\",\n",
    "    \"C:/Users/lehal/KIDNEY DISEASE/Kidney-Disease-Classification/config/config.yaml\",\n",
    "    \"C:/Users/lehal/KIDNEY DISEASE/Kidney-Disease-Classification/dvc.yaml\",\n",
    "    \"C:/Users/lehal/KIDNEY DISEASE/Kidney-Disease-Classification/params.yaml\",\n",
    "    \"C:/Users/lehal/KIDNEY DISEASE/Kidney-Disease-Classification/requirements.txt\",\n",
    "    \"C:/Users/lehal/KIDNEY DISEASE/Kidney-Disease-Classification/setup.ipynb\",\n",
    "    \"C:/Users/lehal/KIDNEY DISEASE/Kidney-Disease-Classification/research/trials.ipynb\",\n",
    "    \"C:/Users/lehal/KIDNEY DISEASE/Kidney-Disease-Classification/templates/index.html\"\n",
    "]\n"
   ]
  },
  {
   "cell_type": "code",
   "execution_count": 5,
   "id": "65674169-2045-448a-9f3e-9830c62e747e",
   "metadata": {},
   "outputs": [
    {
     "name": "stderr",
     "output_type": "stream",
     "text": [
      "[2024-12-27 14:44:05,432]: Creating directory; C:\\Users\\lehal\\KIDNEY DISEASE\\Kidney-Disease-Classification\\.github\\workflows for the file: .gitkeep:\n",
      "[2024-12-27 14:44:05,435]: Creating empty file: C:\\Users\\lehal\\KIDNEY DISEASE\\Kidney-Disease-Classification\\.github\\workflows\\.gitkeep:\n",
      "[2024-12-27 14:44:05,437]: Creating directory; C:\\Users\\lehal\\KIDNEY DISEASE\\Kidney-Disease-Classification\\src\\cnnClassifier for the file: __init__.ipynb:\n",
      "[2024-12-27 14:44:05,440]: Creating empty file: C:\\Users\\lehal\\KIDNEY DISEASE\\Kidney-Disease-Classification\\src\\cnnClassifier\\__init__.ipynb:\n",
      "[2024-12-27 14:44:05,442]: Creating directory; C:\\Users\\lehal\\KIDNEY DISEASE\\Kidney-Disease-Classification\\src\\cnnClassifier\\components for the file: __init__.ipynb:\n",
      "[2024-12-27 14:44:05,445]: Creating empty file: C:\\Users\\lehal\\KIDNEY DISEASE\\Kidney-Disease-Classification\\src\\cnnClassifier\\components\\__init__.ipynb:\n",
      "[2024-12-27 14:44:05,447]: Creating directory; C:\\Users\\lehal\\KIDNEY DISEASE\\Kidney-Disease-Classification\\src\\cnnClassifier\\utils for the file: __init__.ipynb:\n",
      "[2024-12-27 14:44:05,449]: Creating empty file: C:\\Users\\lehal\\KIDNEY DISEASE\\Kidney-Disease-Classification\\src\\cnnClassifier\\utils\\__init__.ipynb:\n",
      "[2024-12-27 14:44:05,451]: Creating directory; C:\\Users\\lehal\\KIDNEY DISEASE\\Kidney-Disease-Classification\\src\\cnnClassifier\\config for the file: __init__.ipynb:\n",
      "[2024-12-27 14:44:05,454]: Creating empty file: C:\\Users\\lehal\\KIDNEY DISEASE\\Kidney-Disease-Classification\\src\\cnnClassifier\\config\\__init__.ipynb:\n",
      "[2024-12-27 14:44:05,456]: Creating directory; C:\\Users\\lehal\\KIDNEY DISEASE\\Kidney-Disease-Classification\\src\\cnnClassifier\\config for the file: configuration.ipynb:\n",
      "[2024-12-27 14:44:05,458]: Creating empty file: C:\\Users\\lehal\\KIDNEY DISEASE\\Kidney-Disease-Classification\\src\\cnnClassifier\\config\\configuration.ipynb:\n",
      "[2024-12-27 14:44:05,460]: Creating directory; C:\\Users\\lehal\\KIDNEY DISEASE\\Kidney-Disease-Classification\\src\\cnnClassifier\\pipeline for the file: __init__.ipynb:\n",
      "[2024-12-27 14:44:05,462]: Creating empty file: C:\\Users\\lehal\\KIDNEY DISEASE\\Kidney-Disease-Classification\\src\\cnnClassifier\\pipeline\\__init__.ipynb:\n",
      "[2024-12-27 14:44:05,464]: Creating directory; C:\\Users\\lehal\\KIDNEY DISEASE\\Kidney-Disease-Classification\\src\\cnnClassifier\\entity for the file: __init__.ipynb:\n",
      "[2024-12-27 14:44:05,465]: Creating empty file: C:\\Users\\lehal\\KIDNEY DISEASE\\Kidney-Disease-Classification\\src\\cnnClassifier\\entity\\__init__.ipynb:\n",
      "[2024-12-27 14:44:05,467]: Creating directory; C:\\Users\\lehal\\KIDNEY DISEASE\\Kidney-Disease-Classification\\src\\cnnClassifier\\constants for the file: __init__.ipynb:\n",
      "[2024-12-27 14:44:05,469]: Creating empty file: C:\\Users\\lehal\\KIDNEY DISEASE\\Kidney-Disease-Classification\\src\\cnnClassifier\\constants\\__init__.ipynb:\n",
      "[2024-12-27 14:44:05,470]: Creating directory; C:\\Users\\lehal\\KIDNEY DISEASE\\Kidney-Disease-Classification\\config for the file: config.yaml:\n",
      "[2024-12-27 14:44:05,472]: Creating empty file: C:\\Users\\lehal\\KIDNEY DISEASE\\Kidney-Disease-Classification\\config\\config.yaml:\n",
      "[2024-12-27 14:44:05,473]: Creating directory; C:\\Users\\lehal\\KIDNEY DISEASE\\Kidney-Disease-Classification for the file: dvc.yaml:\n",
      "[2024-12-27 14:44:05,475]: Creating empty file: C:\\Users\\lehal\\KIDNEY DISEASE\\Kidney-Disease-Classification\\dvc.yaml:\n",
      "[2024-12-27 14:44:05,477]: Creating directory; C:\\Users\\lehal\\KIDNEY DISEASE\\Kidney-Disease-Classification for the file: params.yaml:\n",
      "[2024-12-27 14:44:05,479]: Creating empty file: C:\\Users\\lehal\\KIDNEY DISEASE\\Kidney-Disease-Classification\\params.yaml:\n",
      "[2024-12-27 14:44:05,481]: Creating directory; C:\\Users\\lehal\\KIDNEY DISEASE\\Kidney-Disease-Classification for the file: requirements.txt:\n",
      "[2024-12-27 14:44:05,483]: Creating empty file: C:\\Users\\lehal\\KIDNEY DISEASE\\Kidney-Disease-Classification\\requirements.txt:\n",
      "[2024-12-27 14:44:05,485]: Creating directory; C:\\Users\\lehal\\KIDNEY DISEASE\\Kidney-Disease-Classification for the file: setup.ipynb:\n",
      "[2024-12-27 14:44:05,487]: Creating empty file: C:\\Users\\lehal\\KIDNEY DISEASE\\Kidney-Disease-Classification\\setup.ipynb:\n",
      "[2024-12-27 14:44:05,489]: Creating directory; C:\\Users\\lehal\\KIDNEY DISEASE\\Kidney-Disease-Classification\\research for the file: trials.ipynb:\n",
      "[2024-12-27 14:44:05,492]: Creating empty file: C:\\Users\\lehal\\KIDNEY DISEASE\\Kidney-Disease-Classification\\research\\trials.ipynb:\n",
      "[2024-12-27 14:44:05,494]: Creating directory; C:\\Users\\lehal\\KIDNEY DISEASE\\Kidney-Disease-Classification\\templates for the file: index.html:\n",
      "[2024-12-27 14:44:05,495]: Creating empty file: C:\\Users\\lehal\\KIDNEY DISEASE\\Kidney-Disease-Classification\\templates\\index.html:\n"
     ]
    }
   ],
   "source": [
    "for filepath in list_of_files:\n",
    "    filepath = Path(filepath)\n",
    "    filedir, filename = os.path.split(filepath)\n",
    "\n",
    "\n",
    "    if filedir !=\"\":\n",
    "        os.makedirs(filedir, exist_ok=True)\n",
    "        logging.info(f\"Creating directory; {filedir} for the file: {filename}\")\n",
    "\n",
    "    if (not os.path.exists(filepath)) or (os.path.getsize(filepath) == 0):\n",
    "        with open(filepath, \"w\") as f:\n",
    "            pass\n",
    "            logging.info(f\"Creating empty file: {filepath}\")\n",
    "\n",
    "\n",
    "    else:\n",
    "        logging.info(f\"{filename} is already exists\")"
   ]
  },
  {
   "cell_type": "code",
   "execution_count": null,
   "id": "adc4cad8-7a56-4977-bd98-7ebf9261d8ea",
   "metadata": {},
   "outputs": [],
   "source": []
  }
 ],
 "metadata": {
  "kernelspec": {
   "display_name": "Python 3 (ipykernel)",
   "language": "python",
   "name": "python3"
  },
  "language_info": {
   "codemirror_mode": {
    "name": "ipython",
    "version": 3
   },
   "file_extension": ".py",
   "mimetype": "text/x-python",
   "name": "python",
   "nbconvert_exporter": "python",
   "pygments_lexer": "ipython3",
   "version": "3.12.3"
  }
 },
 "nbformat": 4,
 "nbformat_minor": 5
}
